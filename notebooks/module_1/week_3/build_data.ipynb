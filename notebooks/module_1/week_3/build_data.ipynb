{
 "cells": [
  {
   "cell_type": "markdown",
   "id": "14e04d7b-d1fc-4317-9b55-b68ee8046a0f",
   "metadata": {},
   "source": [
    "# 1. Explore data in notebooks"
   ]
  },
  {
   "cell_type": "code",
   "execution_count": 1,
   "id": "6da2adfb-8eac-4ad3-8810-3d5e6cc1ab42",
   "metadata": {},
   "outputs": [],
   "source": [
    "# YOUR CODE HERE"
   ]
  },
  {
   "cell_type": "markdown",
   "id": "8cb5f429-94fa-4590-b530-dfe192a78657",
   "metadata": {},
   "source": [
    "# 2. Functions\n",
    "\n",
    "### If you are already ready to explore data in functions then move on to this cell"
   ]
  },
  {
   "cell_type": "code",
   "execution_count": null,
   "id": "9c25d42f-b70e-400c-8a6e-e9358f78bf73",
   "metadata": {},
   "outputs": [],
   "source": []
  },
  {
   "cell_type": "markdown",
   "id": "99a0eeda-a35a-4268-b98a-2b33f6e6cafe",
   "metadata": {},
   "source": [
    "# 3. If you have mastered functions and can start building programs you can move on to this"
   ]
  },
  {
   "cell_type": "code",
   "execution_count": null,
   "id": "2339458f-3ddd-4c5d-8f94-641a8fd9ef0c",
   "metadata": {},
   "outputs": [],
   "source": []
  }
 ],
 "metadata": {
  "kernelspec": {
   "display_name": "Python 3 (ipykernel)",
   "language": "python",
   "name": "python3"
  },
  "language_info": {
   "codemirror_mode": {
    "name": "ipython",
    "version": 3
   },
   "file_extension": ".py",
   "mimetype": "text/x-python",
   "name": "python",
   "nbconvert_exporter": "python",
   "pygments_lexer": "ipython3",
   "version": "3.12.6"
  }
 },
 "nbformat": 4,
 "nbformat_minor": 5
}
