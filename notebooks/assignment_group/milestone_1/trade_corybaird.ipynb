{
 "cells": [
  {
   "cell_type": "markdown",
   "id": "4e5632ce",
   "metadata": {},
   "source": [
    "# Assignment 1\n",
    "## IMPORTANT SOFTWARE AND WEBSITES FOR MILESTONE/ASSIGNMENT 1\n",
    "\n",
    "- You must:\n",
    "    - [Create a Github account](https://github.com/)\n",
    "    - [Download Github desktop](https://desktop.github.com/download/)\n",
    "    - Download software to run notebooks and code:\n",
    "        - [VSCode for running notebooks and code](https://code.visualstudio.com/download)\n",
    "        - [UV for running python](https://docs.astral.sh/uv/getting-started/installation/)\n",
    "        - See more details about this software in the coding_tools.md file in this same folder\n",
    "\n",
    "- Milestone 1: Data selection and research question\n",
    "  - Grade: 20% of grade\n",
    "    - Group coding task: Import and manipulate the data and show descriptive statistics in table or graphs.\n",
    "  - Due: by Week 4 (Apr. 28)\n",
    "  - How: Each team member must make at least one commit to the group github\n",
    "  "
   ]
  },
  {
   "cell_type": "markdown",
   "id": "e2c8e240",
   "metadata": {},
   "source": [
    "## 1.1 Download data"
   ]
  },
  {
   "cell_type": "code",
   "execution_count": 1,
   "id": "6da2adfb-8eac-4ad3-8810-3d5e6cc1ab42",
   "metadata": {},
   "outputs": [],
   "source": [
    "# YOUR CODE HERE"
   ]
  },
  {
   "cell_type": "markdown",
   "id": "8cb3b866",
   "metadata": {},
   "source": [
    "## 1.2 Manipulate Data"
   ]
  },
  {
   "cell_type": "code",
   "execution_count": null,
   "id": "4ad358d9",
   "metadata": {},
   "outputs": [],
   "source": []
  },
  {
   "cell_type": "markdown",
   "id": "ec9b1098",
   "metadata": {},
   "source": [
    "## 1.3 Merge Data"
   ]
  },
  {
   "cell_type": "code",
   "execution_count": null,
   "id": "4785a4f5",
   "metadata": {},
   "outputs": [],
   "source": []
  }
 ],
 "metadata": {
  "kernelspec": {
   "display_name": "Python 3 (ipykernel)",
   "language": "python",
   "name": "python3"
  },
  "language_info": {
   "codemirror_mode": {
    "name": "ipython",
    "version": 3
   },
   "file_extension": ".py",
   "mimetype": "text/x-python",
   "name": "python",
   "nbconvert_exporter": "python",
   "pygments_lexer": "ipython3",
   "version": "3.12.6"
  }
 },
 "nbformat": 4,
 "nbformat_minor": 5
}
